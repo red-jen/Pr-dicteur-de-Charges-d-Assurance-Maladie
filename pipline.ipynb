{
 "cells": [
  {
   "cell_type": "code",
   "id": "initial_id",
   "metadata": {
    "collapsed": true,
    "ExecuteTime": {
     "end_time": "2025-10-03T22:14:24.649424Z",
     "start_time": "2025-10-03T22:14:23.588372Z"
    }
   },
   "source": [
    "import joblib\n",
    "# Train and compare: LinearRegression, RandomForest, XGBoost, and SVR\n",
    "# One shared preprocessing pipeline: StandardScaler (numeric) + OneHotEncoder (categorical)\n",
    "\n",
    "import pandas as pd\n",
    "import numpy as np\n",
    "\n",
    "from sklearn.model_selection import train_test_split\n",
    "from sklearn.preprocessing import StandardScaler, OneHotEncoder\n",
    "from sklearn.compose import ColumnTransformer\n",
    "from sklearn.pipeline import Pipeline\n",
    "from sklearn.metrics import mean_squared_error, mean_absolute_error, r2_score\n",
    "\n",
    "from sklearn.linear_model import LinearRegression\n",
    "from sklearn.ensemble import RandomForestRegressor\n",
    "from sklearn.svm import SVR\n",
    "from xgboost import XGBRegressor\n",
    "\n",
    "\n",
    "\n",
    "\n",
    "\n",
    "# 1) Load data\n",
    "csv_path = \"ensurance.csv\"  # <-- change if needed\n",
    "df = pd.read_csv(csv_path)\n",
    "\n",
    "# 2) Split into X (features) and y (target)\n",
    "y = df[\"charges\"]\n",
    "X = df.drop(columns=[\"charges\"])\n",
    "\n",
    "\n",
    "\n",
    "# 3) Define numeric and categorical columns\n",
    "numeric_cols = [c for c in [\"age\", \"bmi\", \"children\"] if c in X.columns]\n",
    "categorical_cols = [c for c in [\"sex\", \"smoker\", \"region\"] if c in X.columns]\n",
    "df['charges']=np.log1p(df['charges'])\n",
    "\n",
    "# Helper: build a fresh preprocessor each time\n",
    "def make_preprocessor():\n",
    "\n",
    "    return ColumnTransformer(\n",
    "        transformers=[\n",
    "            (\"num\", StandardScaler(), numeric_cols),\n",
    "            (\"cat\", OneHotEncoder(drop=\"first\"), categorical_cols),\n",
    "        ],\n",
    "\n",
    "    )\n",
    "\n",
    "\n",
    "X_train, X_test, y_train, y_test = train_test_split(\n",
    "    X, y, test_size=0.2, random_state=42\n",
    ")\n",
    "\n",
    "\n",
    "models = {\n",
    "    \"LinearRegression\": LinearRegression(),\n",
    "    \"RandomForestRegressor\": RandomForestRegressor(random_state=42),\n",
    "    \"SVR_RBF\": SVR(),  # scaling in the pipeline helps SVR\n",
    "}\n",
    "\n",
    "models[\"XGBRegressor\"] = XGBRegressor(\n",
    "\n",
    "        random_state=42,\n",
    "\n",
    "    )\n",
    "\n",
    "def eval_metrics(y_true, y_pred):\n",
    "    rmse = np.sqrt(mean_squared_error(y_true, y_pred))\n",
    "    mae = mean_absolute_error(y_true, y_pred)\n",
    "    r2 = r2_score(y_true, y_pred)\n",
    "    return rmse, mae, r2\n",
    "\n",
    "\n",
    "\n",
    "\n",
    "rows = []\n",
    "for name, model in models.items():\n",
    "    preprocessor = make_preprocessor()\n",
    "    pipe = Pipeline(steps=[\n",
    "        (\"preprocess\", preprocessor),\n",
    "        (\"model\", model),\n",
    "    ])\n",
    "    pipe.fit(X_train, y_train)\n",
    "    y_pred = pipe.predict(X_test)\n",
    "    rmse, mae, r2 = eval_metrics(y_test, y_pred)\n",
    "    rows.append({\"Model\": name, \"RMSE\": rmse, \"MAE\": mae, \"R2\": r2})\n",
    "    print(f\"{name:22s} -> RMSE:{rmse:8.2f}  MAE:{mae:8.2f}  R²:{r2:7.4f}\")\n",
    "\n",
    "\n",
    "print(\"\\nSummary (lower RMSE/MAE is better, higher R² is better):\")\n",
    "results_before = pd.DataFrame(rows)\n",
    "print(results_before)"
   ],
   "outputs": [
    {
     "name": "stdout",
     "output_type": "stream",
     "text": [
      "LinearRegression       -> RMSE: 5796.28  MAE: 4181.19  R²: 0.7836\n",
      "RandomForestRegressor  -> RMSE: 4567.78  MAE: 2543.98  R²: 0.8656\n",
      "SVR_RBF                -> RMSE:12897.60  MAE: 8606.59  R²:-0.0715\n",
      "XGBRegressor           -> RMSE: 4840.94  MAE: 2765.75  R²: 0.8491\n",
      "\n",
      "Summary (lower RMSE/MAE is better, higher R² is better):\n",
      "                   Model          RMSE          MAE        R2\n",
      "0       LinearRegression   5796.284659  4181.194474  0.783593\n",
      "1  RandomForestRegressor   4567.775116  2543.975825  0.865606\n",
      "2                SVR_RBF  12897.600111  8606.592261 -0.071494\n",
      "3           XGBRegressor   4840.940468  2765.746813  0.849051\n"
     ]
    }
   ],
   "execution_count": 16
  },
  {
   "metadata": {},
   "cell_type": "markdown",
   "source": "",
   "id": "3b4b5ce3100cbf55"
  },
  {
   "metadata": {},
   "cell_type": "markdown",
   "source": "",
   "id": "515be06c13ddaef6"
  },
  {
   "metadata": {},
   "cell_type": "markdown",
   "source": "",
   "id": "b9ce40b7aa73e700"
  },
  {
   "metadata": {},
   "cell_type": "markdown",
   "source": "story 3 :evaluer",
   "id": "cc61acbdbb4c1b52"
  },
  {
   "metadata": {},
   "cell_type": "markdown",
   "source": "RANDOMFOREST(grid search)",
   "id": "67a49e5c16865873"
  },
  {
   "metadata": {
    "ExecuteTime": {
     "end_time": "2025-10-03T22:06:35.570687Z",
     "start_time": "2025-10-03T22:04:30.360905Z"
    }
   },
   "cell_type": "code",
   "source": [
    "from sklearn.pipeline import Pipeline\n",
    "from sklearn.ensemble import RandomForestRegressor\n",
    "from sklearn.model_selection import GridSearchCV\n",
    "from sklearn.metrics import mean_squared_error, mean_absolute_error, r2_score\n",
    "import numpy as np\n",
    "\n",
    "\n",
    "\n",
    "rf_pipe = Pipeline([\n",
    "    (\"preprocess\", make_preprocessor()),\n",
    "    (\"model\", RandomForestRegressor(random_state=42)),\n",
    "])\n",
    "\n",
    "# Small, focused grid (24 combos)\n",
    "rf_grid = {\n",
    "    \"model__n_estimators\": [400, 800],\n",
    "    \"model__max_depth\": [None, 10, 20],\n",
    "    \"model__min_samples_split\": [2, 5],\n",
    "\n",
    "\n",
    "}\n",
    "\n",
    "rf_search = GridSearchCV(\n",
    "    rf_pipe,\n",
    "    param_grid=rf_grid,\n",
    "\n",
    "    cv=5,\n",
    "\n",
    ")\n",
    "rf_search.fit(X_train, y_train)\n",
    "\n",
    "print(\"RandomForest (GridSearch)\")\n",
    "print(\"Best params:\", rf_search.best_params_)\n"
   ],
   "id": "cbcc03f5955f720b",
   "outputs": [
    {
     "name": "stdout",
     "output_type": "stream",
     "text": [
      "ERROR! Session/line number was not unique in database. History logging moved to new session 41\n",
      "RandomForest (GridSearch)\n",
      "Best params: {'model__max_depth': 10, 'model__min_samples_split': 5, 'model__n_estimators': 400}\n"
     ]
    }
   ],
   "execution_count": 11
  },
  {
   "metadata": {
    "ExecuteTime": {
     "end_time": "2025-10-03T22:34:53.651847Z",
     "start_time": "2025-10-03T22:33:06.109908Z"
    }
   },
   "cell_type": "code",
   "source": [
    "#backup\n",
    "\n",
    "rf_pipe = Pipeline([\n",
    "    (\"preprocess\", make_preprocessor()),\n",
    "    (\"model\", RandomForestRegressor(random_state=42 , max_depth = 10, min_samples_split= 5,n_estimators=400))\n",
    "])\n",
    "rf_search.fit(X_train, y_train)\n",
    "\n",
    "rf_best = rf_search.best_estimator_\n",
    "y_pred_rf = rf_best.predict(X_test)\n",
    "\n",
    "rmse_rf = float(np.sqrt(mean_squared_error(y_test, y_pred_rf)))\n",
    "mae_rf = float(mean_absolute_error(y_test, y_pred_rf))\n",
    "r2_rf = float(r2_score(y_test, y_pred_rf))\n",
    "\n",
    "\n",
    "\n",
    "print(f\"Test R²: {r2_rf:.4f} | RMSE: {rmse_rf:.2f} | MAE: {mae_rf:.2f} \")\n",
    "\n",
    "rndf = [rmse_rf, mae_rf, r2_rf]"
   ],
   "id": "3d694acf7e3420bc",
   "outputs": [
    {
     "name": "stdout",
     "output_type": "stream",
     "text": [
      "Test R²: 0.8692 | RMSE: 4505.75 | MAE: 2525.22 \n"
     ]
    }
   ],
   "execution_count": 32
  },
  {
   "metadata": {},
   "cell_type": "markdown",
   "source": "XGBRegressor (GridSearchCV, small grid)",
   "id": "d32770e007c36ba4"
  },
  {
   "metadata": {
    "ExecuteTime": {
     "end_time": "2025-10-03T22:16:12.339824Z",
     "start_time": "2025-10-03T22:15:58.974831Z"
    }
   },
   "cell_type": "code",
   "source": [
    "from sklearn.pipeline import Pipeline\n",
    "from sklearn.model_selection import GridSearchCV\n",
    "from xgboost import XGBRegressor\n",
    "from sklearn.metrics import mean_squared_error, mean_absolute_error, r2_score\n",
    "import numpy as np\n",
    "\n",
    "\n",
    "\n",
    "xgb_pipe = Pipeline([\n",
    "    (\"preprocess\", make_preprocessor()),\n",
    "    (\"model\", XGBRegressor(\n",
    "\n",
    "        random_state=42,\n",
    "\n",
    "\n",
    "\n",
    "    )),\n",
    "])\n",
    "\n",
    "# Small, balanced grid (32 combos)\n",
    "xgb_grid = {\n",
    "\n",
    "    \"model__max_depth\": [3, 5],\n",
    "    \"model__learning_rate\": [0.05, 0.1],\n",
    "    \"model__subsample\": [0.8, 1.0],\n",
    "\n",
    "}\n",
    "\n",
    "xgb_search = GridSearchCV(\n",
    "    xgb_pipe,\n",
    "    param_grid=xgb_grid,\n",
    "    scoring=\"neg_mean_squared_error\",\n",
    "    cv=5,\n",
    "\n",
    "\n",
    ")\n",
    "xgb_search.fit(X_train, y_train)\n",
    "\n",
    "\n",
    "\n",
    "print(\"XGBoost (GridSearch)\")\n",
    "print(\"Best params:\", xgb_search.best_params_)\n"
   ],
   "id": "aea462803745e307",
   "outputs": [
    {
     "name": "stdout",
     "output_type": "stream",
     "text": [
      "XGBoost (GridSearch)\n",
      "Best params: {'model__learning_rate': 0.05, 'model__max_depth': 3, 'model__subsample': 0.8}\n"
     ]
    }
   ],
   "execution_count": 18
  },
  {
   "metadata": {},
   "cell_type": "markdown",
   "source": "enregistrer et rentrainait",
   "id": "7e6c21ab659cd51c"
  },
  {
   "metadata": {
    "ExecuteTime": {
     "end_time": "2025-10-03T22:26:28.302475Z",
     "start_time": "2025-10-03T22:26:18.505737Z"
    }
   },
   "cell_type": "code",
   "source": [
    "\n",
    "xgb_pipe = Pipeline([\n",
    "    (\"preprocess\", make_preprocessor()),\n",
    "    (\"model\", XGBRegressor(\n",
    "\n",
    "        random_state=42,learning_rate= 0.05, max_depth=3, subsample= 0.8\n",
    "\n",
    "\n",
    "\n",
    "    )),\n",
    "])\n",
    "\n",
    "xgb_search.fit(X_train, y_train)\n",
    "\n",
    "xgb_best = xgb_search.best_estimator_\n",
    "y_pred_xgb = xgb_best.predict(X_test)\n",
    "\n",
    "rmse_xgb = float(np.sqrt(mean_squared_error(y_test, y_pred_xgb)))\n",
    "mae_xgb = float(mean_absolute_error(y_test, y_pred_xgb))\n",
    "r2_xgb = float(r2_score(y_test, y_pred_xgb))\n",
    "\n",
    "\n",
    "\n",
    "print(f\"Test R²: {r2_xgb:.4f} | RMSE: {rmse_xgb:.2f} | MAE: {mae_xgb:.2f} \")\n",
    "\n",
    "xgbr = [rmse_xgb , mae_xgb , r2_xgb]"
   ],
   "id": "9208454c231e14d7",
   "outputs": [
    {
     "name": "stdout",
     "output_type": "stream",
     "text": [
      "Test R²: 0.8825 | RMSE: 4270.62 | MAE: 2464.47 \n"
     ]
    }
   ],
   "execution_count": 22
  },
  {
   "metadata": {},
   "cell_type": "markdown",
   "source": "FUTURE STOry 4",
   "id": "b7966fd1343256ee"
  },
  {
   "metadata": {
    "ExecuteTime": {
     "end_time": "2025-10-03T22:22:19.000009Z",
     "start_time": "2025-10-03T22:22:18.776114Z"
    }
   },
   "cell_type": "code",
   "source": [
    "import matplotlib.pyplot as mpl\n",
    "residus = y_test - y_pred\n",
    "mpl.scatter(y_pred, residus)\n",
    "mpl.axhline(0, color='red', linestyle='--')\n",
    "mpl.xlabel(\"Prédictions\")\n",
    "mpl.ylabel(\"Résidus\")\n",
    "mpl.show()\n",
    "\n"
   ],
   "id": "87a9ab24807eff63",
   "outputs": [
    {
     "data": {
      "text/plain": [
       "<Figure size 640x480 with 1 Axes>"
      ],
      "image/png": "[encoded data removed]"
     },
     "metadata": {},
     "output_type": "display_data",
     "jetTransient": {
      "display_id": null
     }
    }
   ],
   "execution_count": 20
  },
  {
   "metadata": {},
   "cell_type": "markdown",
   "source": "feature story 4 2",
   "id": "d43491a8a22d336e"
  },
  {
   "metadata": {},
   "cell_type": "markdown",
   "source": "",
   "id": "ce6101e6ff469510"
  },
  {
   "metadata": {
    "ExecuteTime": {
     "end_time": "2025-10-03T22:23:36.031963Z",
     "start_time": "2025-10-03T22:23:35.888954Z"
    }
   },
   "cell_type": "code",
   "source": [
    "mpl.scatter(y_test, y_pred)\n",
    "mpl.plot([y_test.min(), y_test.max()], [y_test.min(), y_test.max()], 'r--')  # ligne y=x\n",
    "mpl.xlabel(\"Valeurs réelles\")\n",
    "mpl.ylabel(\"Prédictions\")\n",
    "mpl.show()\n",
    "import matplotlib.pyplot as mpl"
   ],
   "id": "663ea6e137c0b1ae",
   "outputs": [
    {
     "data": {
      "text/plain": [
       "<Figure size 640x480 with 1 Axes>"
      ],
      "image/png": "[encoded data removed]"
     },
     "metadata": {},
     "output_type": "display_data",
     "jetTransient": {
      "display_id": null
     }
    }
   ],
   "execution_count": 21
  },
  {
   "metadata": {},
   "cell_type": "markdown",
   "source": "",
   "id": "e23780af6686040d"
  },
  {
   "metadata": {},
   "cell_type": "markdown",
   "source": [
    "import pandas as pd\n",
    "\n",
    "# Tag each row with the model name\n",
    "xgbr_tagged = [{**d, \"Model\": \"XGBRegressor\"} for d in xgbr]\n",
    "rndf_tagged = [{**d, \"Model\": \"RandomForestRegressor\"} for d in rndf]\n",
    "\n",
    "df_scores = pd.DataFrame(xgbr_tagged + rndf_tagged)[[\"Model\", \"RMSE\", \"MAE\", \"R2\"]]\n",
    "print(df_scores)"
   ],
   "id": "281e058276041db2"
  },
  {
   "metadata": {
    "ExecuteTime": {
     "end_time": "2025-10-03T22:35:06.097620Z",
     "start_time": "2025-10-03T22:35:06.088556Z"
    }
   },
   "cell_type": "code",
   "source": [
    "import pandas as pd\n",
    "\n",
    "df_scores = pd.DataFrame([\n",
    "    {\"Model\": \"XGBRegressor\", \"R2\": xgbr[2]},\n",
    "    {\"Model\": \"randomforest\", \"R2\": rndf[2]}\n",
    "\n",
    "])\n",
    "\n",
    "print(df_scores)"
   ],
   "id": "fc42d70b142db8c4",
   "outputs": [
    {
     "name": "stdout",
     "output_type": "stream",
     "text": [
      "          Model        R2\n",
      "0  XGBRegressor  0.882523\n",
      "1  randomforest  0.869230\n"
     ]
    }
   ],
   "execution_count": 33
  },
  {
   "metadata": {},
   "cell_type": "markdown",
   "source": "chose",
   "id": "5df4754b5d5de788"
  },
  {
   "metadata": {
    "ExecuteTime": {
     "end_time": "2025-10-03T22:39:57.107973Z",
     "start_time": "2025-10-03T22:39:57.091904Z"
    }
   },
   "cell_type": "code",
   "source": [
    "from joblib import dump,load\n",
    "dump(xgb_pipe, \"best_IA\")\n",
    "loaded_model = load(\"best_IA\")\n",
    "\n",
    "#dump(scaler, \"SmartSante_Scaler\")\n",
    "#scaler = load(\"SmartSante_Scaler\")"
   ],
   "id": "da20e3aecfa8e41f",
   "outputs": [],
   "execution_count": 36
  },
  {
   "metadata": {},
   "cell_type": "code",
   "outputs": [],
   "execution_count": null,
   "source": "",
   "id": "61da4a6df9f2a90d"
  },
  {
   "metadata": {
    "ExecuteTime": {
     "end_time": "2025-10-03T22:53:01.705355Z",
     "start_time": "2025-10-03T22:53:01.617710Z"
    }
   },
   "cell_type": "code",
   "source": [
    "# Simple console-style inputs and prediction using the already-loaded pipeline (loaded_model)\n",
    "# No extra libraries for UI; just input() and print().\n",
    "# Assumes pandas is already available from previous cells and loaded_model exists.\n",
    "\n",
    "try:\n",
    "    model = loaded_model  # reuse the loaded pipeline\n",
    "except NameError:\n",
    "    raise RuntimeError(\"Please ensure your trained pipeline is available as `loaded_model` in memory.\")\n",
    "\n",
    "# Basic helpers to read and validate\n",
    "def read_int(prompt, min_v=None, max_v=None):\n",
    "    while True:\n",
    "        try:\n",
    "            v = int(input(prompt).strip())\n",
    "            if (min_v is not None and v < min_v) or (max_v is not None and v > max_v):\n",
    "                print(f\"Please enter an integer between {min_v} and {max_v}.\")\n",
    "                continue\n",
    "            return v\n",
    "        except ValueError:\n",
    "            print(\"Please enter a valid integer.\")\n",
    "\n",
    "def read_float(prompt, min_v=None, max_v=None):\n",
    "    while True:\n",
    "        try:\n",
    "            v = float(input(prompt).strip())\n",
    "            if (min_v is not None and v < min_v) or (max_v is not None and v > max_v):\n",
    "                print(f\"Please enter a number between {min_v} and {max_v}.\")\n",
    "                continue\n",
    "            return v\n",
    "        except ValueError:\n",
    "            print(\"Please enter a valid number.\")\n",
    "\n",
    "def read_choice(prompt, choices):\n",
    "    choices_l = [c.lower() for c in choices]\n",
    "    while True:\n",
    "        v = input(f\"{prompt} {choices}: \").strip().lower()\n",
    "        if v in choices_l:\n",
    "            return v\n",
    "        print(f\"Please choose one of {choices}.\")\n",
    "\n",
    "# Collect inputs\n",
    "print(\"Enter your information:\")\n",
    "age = read_int(\"age (years): \", 18, 100)\n",
    "bmi = read_float(\"bmi: \", 10, 80)\n",
    "children = read_int(\"children (0-10): \", 0, 10)\n",
    "sex = read_choice(\"sex\", [\"male\", \"female\"])\n",
    "smoker = read_choice(\"smoker\", [\"yes\", \"no\"])\n",
    "region = read_choice(\"region\", [\"southwest\", \"southeast\", \"northwest\", \"northeast\"])\n",
    "\n",
    "# Build a one-row DataFrame matching training columns\n",
    "# Uses pandas that should already be imported earlier as pd\n",
    "row = {\n",
    "    \"age\": age,\n",
    "    \"bmi\": bmi,\n",
    "    \"children\": children,\n",
    "    \"sex\": sex,\n",
    "    \"smoker\": smoker,\n",
    "    \"region\": region,\n",
    "}\n",
    "\n",
    "# Predict\n",
    "# If your pipeline expects a pandas DataFrame with column names (typical with ColumnTransformer),\n",
    "# ensure pd is available from earlier cells.\n",
    "try:\n",
    "    X_user = pd.DataFrame([row])\n",
    "except NameError as e:\n",
    "    raise RuntimeError(\"pandas (pd) must be available from earlier cells to build the input DataFrame.\") from e\n",
    "\n",
    "y_pred = model.predict(X_user)\n",
    "\n",
    "print(f\"\\nEstimated charges: {float(y_pred[0]):,.2f}\")"
   ],
   "id": "afe0751de79c6aea",
   "outputs": [
    {
     "ename": "FileNotFoundError",
     "evalue": "[Errno 2] No such file or directory: 'models/best_xgb.joblib'",
     "output_type": "error",
     "traceback": [
      "\u001B[31m---------------------------------------------------------------------------\u001B[39m",
      "\u001B[31mFileNotFoundError\u001B[39m                         Traceback (most recent call last)",
      "\u001B[36mCell\u001B[39m\u001B[36m \u001B[39m\u001B[32mIn[48]\u001B[39m\u001B[32m, line 6\u001B[39m\n\u001B[32m      1\u001B[39m \u001B[38;5;66;03m# Simple console-style inputs and prediction using the already-loaded pipeline (loaded_model)\u001B[39;00m\n\u001B[32m      2\u001B[39m \u001B[38;5;66;03m# No extra libraries for UI; just input() and print().\u001B[39;00m\n\u001B[32m      3\u001B[39m \u001B[38;5;66;03m# Assumes pandas is already available from previous cells and loaded_model exists.\u001B[39;00m\n\u001B[32m      4\u001B[39m \u001B[38;5;28;01mfrom\u001B[39;00m\u001B[38;5;250m \u001B[39m\u001B[34;01mjoblib\u001B[39;00m\u001B[38;5;250m \u001B[39m\u001B[38;5;28;01mimport\u001B[39;00m load\n\u001B[32m----> \u001B[39m\u001B[32m6\u001B[39m model = \u001B[43mload\u001B[49m\u001B[43m(\u001B[49m\u001B[33;43m\"\u001B[39;49m\u001B[33;43mmodels/best_xgb.joblib\u001B[39;49m\u001B[33;43m\"\u001B[39;49m\u001B[43m)\u001B[49m  \u001B[38;5;66;03m# use the file you dumped from the TRAINED pipeline (e.g., xgb_best)\u001B[39;00m\n\u001B[32m      8\u001B[39m \u001B[38;5;66;03m# Simple fitted check and fallback fit\u001B[39;00m\n\u001B[32m      9\u001B[39m is_fitted = \u001B[38;5;28;01mTrue\u001B[39;00m\n",
      "\u001B[36mFile \u001B[39m\u001B[32m~\\Desktop\\Pr-dicteur-de-Charges-d-Assurance-Maladie\\venv\\Lib\\site-packages\\joblib\\numpy_pickle.py:735\u001B[39m, in \u001B[36mload\u001B[39m\u001B[34m(filename, mmap_mode, ensure_native_byte_order)\u001B[39m\n\u001B[32m    733\u001B[39m         obj = _unpickle(fobj, ensure_native_byte_order=ensure_native_byte_order)\n\u001B[32m    734\u001B[39m \u001B[38;5;28;01melse\u001B[39;00m:\n\u001B[32m--> \u001B[39m\u001B[32m735\u001B[39m     \u001B[38;5;28;01mwith\u001B[39;00m \u001B[38;5;28;43mopen\u001B[39;49m\u001B[43m(\u001B[49m\u001B[43mfilename\u001B[49m\u001B[43m,\u001B[49m\u001B[43m \u001B[49m\u001B[33;43m\"\u001B[39;49m\u001B[33;43mrb\u001B[39;49m\u001B[33;43m\"\u001B[39;49m\u001B[43m)\u001B[49m \u001B[38;5;28;01mas\u001B[39;00m f:\n\u001B[32m    736\u001B[39m         \u001B[38;5;28;01mwith\u001B[39;00m _validate_fileobject_and_memmap(f, filename, mmap_mode) \u001B[38;5;28;01mas\u001B[39;00m (\n\u001B[32m    737\u001B[39m             fobj,\n\u001B[32m    738\u001B[39m             validated_mmap_mode,\n\u001B[32m    739\u001B[39m         ):\n\u001B[32m    740\u001B[39m             \u001B[38;5;28;01mif\u001B[39;00m \u001B[38;5;28misinstance\u001B[39m(fobj, \u001B[38;5;28mstr\u001B[39m):\n\u001B[32m    741\u001B[39m                 \u001B[38;5;66;03m# if the returned file object is a string, this means we\u001B[39;00m\n\u001B[32m    742\u001B[39m                 \u001B[38;5;66;03m# try to load a pickle file generated with an version of\u001B[39;00m\n\u001B[32m    743\u001B[39m                 \u001B[38;5;66;03m# Joblib so we load it with joblib compatibility function.\u001B[39;00m\n",
      "\u001B[31mFileNotFoundError\u001B[39m: [Errno 2] No such file or directory: 'models/best_xgb.joblib'"
     ]
    }
   ],
   "execution_count": 48
  }
 ],
 "metadata": {
  "kernelspec": {
   "display_name": "Python 3",
   "language": "python",
   "name": "python3"
  },
  "language_info": {
   "codemirror_mode": {
    "name": "ipython",
    "version": 2
   },
   "file_extension": ".py",
   "mimetype": "text/x-python",
   "name": "python",
   "nbconvert_exporter": "python",
   "pygments_lexer": "ipython2",
   "version": "2.7.6"
  }
 },
 "nbformat": 4,
 "nbformat_minor": 5
}
