{
 "cells": [
  {
   "cell_type": "code",
   "id": "fd71c49915e085c5",
   "metadata": {
    "ExecuteTime": {
     "end_time": "2025-10-02T14:03:26.184273Z",
     "start_time": "2025-10-02T14:03:26.176736Z"
    }
   },
   "source": [
    "import pandas as pd # import pandas as alias pd\n",
    "from pygments.lexer import include"
   ],
   "outputs": [],
   "execution_count": 34
  },
  {
   "cell_type": "code",
   "id": "73612abf8c812313",
   "metadata": {
    "collapsed": true,
    "ExecuteTime": {
     "end_time": "2025-10-02T14:03:26.257825Z",
     "start_time": "2025-10-02T14:03:26.244764Z"
    }
   },
   "source": [
    "df = pd.read_csv(\"ensurance.csv\") # .red_csv ktqra files mais khass darori ykono f directory je pense la mkanx khass dir path.join()"
   ],
   "outputs": [],
   "execution_count": 35
  },
  {
   "cell_type": "code",
   "id": "fbbc88f6114e19e6",
   "metadata": {
    "ExecuteTime": {
     "end_time": "2025-10-02T14:03:26.287098Z",
     "start_time": "2025-10-02T14:03:26.274385Z"
    }
   },
   "source": [
    "print(\"shape:\", df.shape) # shape kt3tik xhal mn rowe and column kynin\n",
    "df.head() #kt3tik l 5 rows lowlin mais ymkn lid t customizi bhal .head(10)"
   ],
   "outputs": [
    {
     "name": "stdout",
     "output_type": "stream",
     "text": [
      "shape: (1338, 7)\n"
     ]
    },
    {
     "data": {
      "text/plain": [
       "   age     sex     bmi  children smoker     region      charges\n",
       "0   19  female  27.900         0    yes  southwest  16884.92400\n",
       "1   18    male  33.770         1     no  southeast   1725.55230\n",
       "2   28    male  33.000         3     no  southeast   4449.46200\n",
       "3   33    male  22.705         0     no  northwest  21984.47061\n",
       "4   32    male  28.880         0     no  northwest   3866.85520"
      ],
      "text/html": [
       "<div>\n",
       "<style scoped>\n",
       "    .dataframe tbody tr th:only-of-type {\n",
       "        vertical-align: middle;\n",
       "    }\n",
       "\n",
       "    .dataframe tbody tr th {\n",
       "        vertical-align: top;\n",
       "    }\n",
       "\n",
       "    .dataframe thead th {\n",
       "        text-align: right;\n",
       "    }\n",
       "</style>\n",
       "<table border=\"1\" class=\"dataframe\">\n",
       "  <thead>\n",
       "    <tr style=\"text-align: right;\">\n",
       "      <th></th>\n",
       "      <th>age</th>\n",
       "      <th>sex</th>\n",
       "      <th>bmi</th>\n",
       "      <th>children</th>\n",
       "      <th>smoker</th>\n",
       "      <th>region</th>\n",
       "      <th>charges</th>\n",
       "    </tr>\n",
       "  </thead>\n",
       "  <tbody>\n",
       "    <tr>\n",
       "      <th>0</th>\n",
       "      <td>19</td>\n",
       "      <td>female</td>\n",
       "      <td>27.900</td>\n",
       "      <td>0</td>\n",
       "      <td>yes</td>\n",
       "      <td>southwest</td>\n",
       "      <td>16884.92400</td>\n",
       "    </tr>\n",
       "    <tr>\n",
       "      <th>1</th>\n",
       "      <td>18</td>\n",
       "      <td>male</td>\n",
       "      <td>33.770</td>\n",
       "      <td>1</td>\n",
       "      <td>no</td>\n",
       "      <td>southeast</td>\n",
       "      <td>1725.55230</td>\n",
       "    </tr>\n",
       "    <tr>\n",
       "      <th>2</th>\n",
       "      <td>28</td>\n",
       "      <td>male</td>\n",
       "      <td>33.000</td>\n",
       "      <td>3</td>\n",
       "      <td>no</td>\n",
       "      <td>southeast</td>\n",
       "      <td>4449.46200</td>\n",
       "    </tr>\n",
       "    <tr>\n",
       "      <th>3</th>\n",
       "      <td>33</td>\n",
       "      <td>male</td>\n",
       "      <td>22.705</td>\n",
       "      <td>0</td>\n",
       "      <td>no</td>\n",
       "      <td>northwest</td>\n",
       "      <td>21984.47061</td>\n",
       "    </tr>\n",
       "    <tr>\n",
       "      <th>4</th>\n",
       "      <td>32</td>\n",
       "      <td>male</td>\n",
       "      <td>28.880</td>\n",
       "      <td>0</td>\n",
       "      <td>no</td>\n",
       "      <td>northwest</td>\n",
       "      <td>3866.85520</td>\n",
       "    </tr>\n",
       "  </tbody>\n",
       "</table>\n",
       "</div>"
      ]
     },
     "execution_count": 36,
     "metadata": {},
     "output_type": "execute_result"
    }
   ],
   "execution_count": 36
  },
  {
   "cell_type": "markdown",
   "id": "6c93eeaae29cba94",
   "metadata": {},
   "source": [
    "2_ types and summary"
   ]
  },
  {
   "cell_type": "code",
   "id": "55172497780fd702",
   "metadata": {
    "ExecuteTime": {
     "end_time": "2025-10-02T14:03:26.400319Z",
     "start_time": "2025-10-02T14:03:26.368242Z"
    }
   },
   "source": [
    "df.info() #Prints a summary of the DataFrame: number of entries , index range, column names, non-null count for each column, and each column’s dtype (int, float, object, etc.)\n",
    "display(df.describe(include='all').T)"
   ],
   "outputs": [
    {
     "name": "stdout",
     "output_type": "stream",
     "text": [
      "<class 'pandas.core.frame.DataFrame'>\n",
      "RangeIndex: 1338 entries, 0 to 1337\n",
      "Data columns (total 7 columns):\n",
      " #   Column    Non-Null Count  Dtype  \n",
      "---  ------    --------------  -----  \n",
      " 0   age       1338 non-null   int64  \n",
      " 1   sex       1338 non-null   object \n",
      " 2   bmi       1338 non-null   float64\n",
      " 3   children  1338 non-null   int64  \n",
      " 4   smoker    1338 non-null   object \n",
      " 5   region    1338 non-null   object \n",
      " 6   charges   1338 non-null   float64\n",
      "dtypes: float64(2), int64(2), object(3)\n",
      "memory usage: 73.3+ KB\n"
     ]
    },
    {
     "data": {
      "text/plain": [
       "           count unique        top  freq          mean           std  \\\n",
       "age       1338.0    NaN        NaN   NaN     39.207025      14.04996   \n",
       "sex         1338      2       male   676           NaN           NaN   \n",
       "bmi       1338.0    NaN        NaN   NaN     30.663397      6.098187   \n",
       "children  1338.0    NaN        NaN   NaN      1.094918      1.205493   \n",
       "smoker      1338      2         no  1064           NaN           NaN   \n",
       "region      1338      4  southeast   364           NaN           NaN   \n",
       "charges   1338.0    NaN        NaN   NaN  13270.422265  12110.011237   \n",
       "\n",
       "                min         25%       50%           75%          max  \n",
       "age            18.0        27.0      39.0          51.0         64.0  \n",
       "sex             NaN         NaN       NaN           NaN          NaN  \n",
       "bmi           15.96    26.29625      30.4      34.69375        53.13  \n",
       "children        0.0         0.0       1.0           2.0          5.0  \n",
       "smoker          NaN         NaN       NaN           NaN          NaN  \n",
       "region          NaN         NaN       NaN           NaN          NaN  \n",
       "charges   1121.8739  4740.28715  9382.033  16639.912515  63770.42801  "
      ],
      "text/html": [
       "<div>\n",
       "<style scoped>\n",
       "    .dataframe tbody tr th:only-of-type {\n",
       "        vertical-align: middle;\n",
       "    }\n",
       "\n",
       "    .dataframe tbody tr th {\n",
       "        vertical-align: top;\n",
       "    }\n",
       "\n",
       "    .dataframe thead th {\n",
       "        text-align: right;\n",
       "    }\n",
       "</style>\n",
       "<table border=\"1\" class=\"dataframe\">\n",
       "  <thead>\n",
       "    <tr style=\"text-align: right;\">\n",
       "      <th></th>\n",
       "      <th>count</th>\n",
       "      <th>unique</th>\n",
       "      <th>top</th>\n",
       "      <th>freq</th>\n",
       "      <th>mean</th>\n",
       "      <th>std</th>\n",
       "      <th>min</th>\n",
       "      <th>25%</th>\n",
       "      <th>50%</th>\n",
       "      <th>75%</th>\n",
       "      <th>max</th>\n",
       "    </tr>\n",
       "  </thead>\n",
       "  <tbody>\n",
       "    <tr>\n",
       "      <th>age</th>\n",
       "      <td>1338.0</td>\n",
       "      <td>NaN</td>\n",
       "      <td>NaN</td>\n",
       "      <td>NaN</td>\n",
       "      <td>39.207025</td>\n",
       "      <td>14.04996</td>\n",
       "      <td>18.0</td>\n",
       "      <td>27.0</td>\n",
       "      <td>39.0</td>\n",
       "      <td>51.0</td>\n",
       "      <td>64.0</td>\n",
       "    </tr>\n",
       "    <tr>\n",
       "      <th>sex</th>\n",
       "      <td>1338</td>\n",
       "      <td>2</td>\n",
       "      <td>male</td>\n",
       "      <td>676</td>\n",
       "      <td>NaN</td>\n",
       "      <td>NaN</td>\n",
       "      <td>NaN</td>\n",
       "      <td>NaN</td>\n",
       "      <td>NaN</td>\n",
       "      <td>NaN</td>\n",
       "      <td>NaN</td>\n",
       "    </tr>\n",
       "    <tr>\n",
       "      <th>bmi</th>\n",
       "      <td>1338.0</td>\n",
       "      <td>NaN</td>\n",
       "      <td>NaN</td>\n",
       "      <td>NaN</td>\n",
       "      <td>30.663397</td>\n",
       "      <td>6.098187</td>\n",
       "      <td>15.96</td>\n",
       "      <td>26.29625</td>\n",
       "      <td>30.4</td>\n",
       "      <td>34.69375</td>\n",
       "      <td>53.13</td>\n",
       "    </tr>\n",
       "    <tr>\n",
       "      <th>children</th>\n",
       "      <td>1338.0</td>\n",
       "      <td>NaN</td>\n",
       "      <td>NaN</td>\n",
       "      <td>NaN</td>\n",
       "      <td>1.094918</td>\n",
       "      <td>1.205493</td>\n",
       "      <td>0.0</td>\n",
       "      <td>0.0</td>\n",
       "      <td>1.0</td>\n",
       "      <td>2.0</td>\n",
       "      <td>5.0</td>\n",
       "    </tr>\n",
       "    <tr>\n",
       "      <th>smoker</th>\n",
       "      <td>1338</td>\n",
       "      <td>2</td>\n",
       "      <td>no</td>\n",
       "      <td>1064</td>\n",
       "      <td>NaN</td>\n",
       "      <td>NaN</td>\n",
       "      <td>NaN</td>\n",
       "      <td>NaN</td>\n",
       "      <td>NaN</td>\n",
       "      <td>NaN</td>\n",
       "      <td>NaN</td>\n",
       "    </tr>\n",
       "    <tr>\n",
       "      <th>region</th>\n",
       "      <td>1338</td>\n",
       "      <td>4</td>\n",
       "      <td>southeast</td>\n",
       "      <td>364</td>\n",
       "      <td>NaN</td>\n",
       "      <td>NaN</td>\n",
       "      <td>NaN</td>\n",
       "      <td>NaN</td>\n",
       "      <td>NaN</td>\n",
       "      <td>NaN</td>\n",
       "      <td>NaN</td>\n",
       "    </tr>\n",
       "    <tr>\n",
       "      <th>charges</th>\n",
       "      <td>1338.0</td>\n",
       "      <td>NaN</td>\n",
       "      <td>NaN</td>\n",
       "      <td>NaN</td>\n",
       "      <td>13270.422265</td>\n",
       "      <td>12110.011237</td>\n",
       "      <td>1121.8739</td>\n",
       "      <td>4740.28715</td>\n",
       "      <td>9382.033</td>\n",
       "      <td>16639.912515</td>\n",
       "      <td>63770.42801</td>\n",
       "    </tr>\n",
       "  </tbody>\n",
       "</table>\n",
       "</div>"
      ]
     },
     "metadata": {},
     "output_type": "display_data",
     "jetTransient": {
      "display_id": null
     }
    }
   ],
   "execution_count": 37
  },
  {
   "cell_type": "markdown",
   "id": "3767427c4006d1ed",
   "metadata": {},
   "source": [
    "TAche 2:\n",
    "Comprendre la structure générale du jeu de données (types de données, dimensions, aperçus)."
   ]
  },
  {
   "cell_type": "code",
   "id": "7b8e543d669016af",
   "metadata": {
    "ExecuteTime": {
     "end_time": "2025-10-02T14:03:26.867622Z",
     "start_time": "2025-10-02T14:03:26.853223Z"
    }
   },
   "source": [
    "# dimensions:\n",
    "print(\"Shape:\", df.shape)\n",
    "\n",
    "#types and non null counts\n",
    "df.info()\n",
    "\n",
    "\n"
   ],
   "outputs": [
    {
     "name": "stdout",
     "output_type": "stream",
     "text": [
      "Shape: (1338, 7)\n",
      "<class 'pandas.core.frame.DataFrame'>\n",
      "RangeIndex: 1338 entries, 0 to 1337\n",
      "Data columns (total 7 columns):\n",
      " #   Column    Non-Null Count  Dtype  \n",
      "---  ------    --------------  -----  \n",
      " 0   age       1338 non-null   int64  \n",
      " 1   sex       1338 non-null   object \n",
      " 2   bmi       1338 non-null   float64\n",
      " 3   children  1338 non-null   int64  \n",
      " 4   smoker    1338 non-null   object \n",
      " 5   region    1338 non-null   object \n",
      " 6   charges   1338 non-null   float64\n",
      "dtypes: float64(2), int64(2), object(3)\n",
      "memory usage: 73.3+ KB\n"
     ]
    }
   ],
   "execution_count": 38
  },
  {
   "cell_type": "markdown",
   "id": "f070eb7c96907c5",
   "metadata": {},
   "source": [
    "2 _ Effectuer une analyse descriptive des données (moyennes, médianes, écarts-types pour les variables numériques ; fréquences pour les catégoriques)."
   ]
  },
  {
   "cell_type": "code",
   "id": "d8f94ac05901c905",
   "metadata": {
    "ExecuteTime": {
     "end_time": "2025-10-02T14:03:27.139869Z",
     "start_time": "2025-10-02T14:03:27.114896Z"
    }
   },
   "source": [
    "print(df.describe().T[['mean', '50%', 'std', 'min', 'max']])  # median is '50%' in output (lvaleur li jat lwst ) ; mean howa : The arithmetic average of all values (sum of values) / (number of values). ; standard knxofo bih xhal kola points b3ida 3la mean : Example: For [1, 2, 3, 4, 5], std ≈ 1.41.\n",
    "# With .T, columns become rows and statistics become columns, making it easier to read if you have many columns.\n",
    "\n",
    "# Frequencies for categorical columns\n",
    "for col in df.select_dtypes(include=['object', 'category']):  #hna knho l frequense les categorie li maxi num f cnhsbo lcout xhal t3awdo\n",
    "    print(f\"\\nValue counts for {col}:\")\n",
    "    print(df[col].value_counts(dropna=False))"
   ],
   "outputs": [
    {
     "name": "stdout",
     "output_type": "stream",
     "text": [
      "                  mean       50%           std        min          max\n",
      "age          39.207025    39.000     14.049960    18.0000     64.00000\n",
      "bmi          30.663397    30.400      6.098187    15.9600     53.13000\n",
      "children      1.094918     1.000      1.205493     0.0000      5.00000\n",
      "charges   13270.422265  9382.033  12110.011237  1121.8739  63770.42801\n",
      "\n",
      "Value counts for sex:\n",
      "sex\n",
      "male      676\n",
      "female    662\n",
      "Name: count, dtype: int64\n",
      "\n",
      "Value counts for smoker:\n",
      "smoker\n",
      "no     1064\n",
      "yes     274\n",
      "Name: count, dtype: int64\n",
      "\n",
      "Value counts for region:\n",
      "region\n",
      "southeast    364\n",
      "southwest    325\n",
      "northwest    325\n",
      "northeast    324\n",
      "Name: count, dtype: int64\n"
     ]
    }
   ],
   "execution_count": 39
  },
  {
   "cell_type": "markdown",
   "id": "44ec004c4c90e0c8",
   "metadata": {},
   "source": [
    "3 Identifier les valeurs manquantes et les doublons."
   ]
  },
  {
   "cell_type": "code",
   "id": "9d6adcca5b507807",
   "metadata": {
    "ExecuteTime": {
     "end_time": "2025-10-02T14:03:27.204419Z",
     "start_time": "2025-10-02T14:03:27.190286Z"
    }
   },
   "source": [
    "print(\"Missing values per column:\")\n",
    "print(df.isna())\n",
    "# isna() give u th amplicaple valeurs and su count them\n",
    "# Duplicate rows count\n",
    "print(\"Number of duplicate rows:\", df.duplicated())"
   ],
   "outputs": [
    {
     "name": "stdout",
     "output_type": "stream",
     "text": [
      "Missing values per column:\n",
      "        age    sex    bmi  children  smoker  region  charges\n",
      "0     False  False  False     False   False   False    False\n",
      "1     False  False  False     False   False   False    False\n",
      "2     False  False  False     False   False   False    False\n",
      "3     False  False  False     False   False   False    False\n",
      "4     False  False  False     False   False   False    False\n",
      "...     ...    ...    ...       ...     ...     ...      ...\n",
      "1333  False  False  False     False   False   False    False\n",
      "1334  False  False  False     False   False   False    False\n",
      "1335  False  False  False     False   False   False    False\n",
      "1336  False  False  False     False   False   False    False\n",
      "1337  False  False  False     False   False   False    False\n",
      "\n",
      "[1338 rows x 7 columns]\n",
      "Number of duplicate rows: 0       False\n",
      "1       False\n",
      "2       False\n",
      "3       False\n",
      "4       False\n",
      "        ...  \n",
      "1333    False\n",
      "1334    False\n",
      "1335    False\n",
      "1336    False\n",
      "1337    False\n",
      "Length: 1338, dtype: bool\n"
     ]
    }
   ],
   "execution_count": 40
  },
  {
   "cell_type": "markdown",
   "id": "e3d67380ce3bd80",
   "metadata": {},
   "source": [
    "Analyser la distribution des variables numériques (ex. : histogrammes avec Matplotlib/Seaborn)."
   ]
  },
  {
   "cell_type": "code",
   "id": "d397d1163fdaa56d",
   "metadata": {
    "ExecuteTime": {
     "end_time": "2025-10-02T14:03:28.058048Z",
     "start_time": "2025-10-02T14:03:27.245181Z"
    }
   },
   "source": [
    "import matplotlib.pyplot as plt\n",
    "import seaborn as sns\n",
    "\n",
    "# Select numeric columns\n",
    "numeric_cols = df.select_dtypes(include=['number']).columns\n",
    "\n",
    "# Plot histograms for each numeric column\n",
    "for col in numeric_cols:\n",
    "    plt.figure(figsize=(8, 4))\n",
    "    sns.histplot(df[col].dropna(), kde=True, bins=30)\n",
    "    plt.title(f'Histogram of {col}')\n",
    "    plt.xlabel(col)\n",
    "    plt.ylabel('Frequency')\n",
    "    plt.show()\n",
    "\n",
    "\n",
    "    #for the kde the curve we can conclude it as : “If I pick a random value from this column, how likely is it to be around X?”"
   ],
   "outputs": [
    {
     "data": {
      "text/plain": [
       "<Figure size 800x400 with 1 Axes>"
      ],
      "image/png": "[encoded data removed]"
     },
     "metadata": {},
     "output_type": "display_data",
     "jetTransient": {
      "display_id": null
     }
    },
    {
     "data": {
      "text/plain": [
       "<Figure size 800x400 with 1 Axes>"
      ],
      "image/png": "[encoded data removed]"
     },
     "metadata": {},
     "output_type": "display_data",
     "jetTransient": {
      "display_id": null
     }
    },
    {
     "data": {
      "text/plain": [
       "<Figure size 800x400 with 1 Axes>"
      ],
      "image/png": "[encoded data removed]"
     },
     "metadata": {},
     "output_type": "display_data",
     "jetTransient": {
      "display_id": null
     }
    },
    {
     "data": {
      "text/plain": [
       "<Figure size 800x400 with 1 Axes>"
      ],
      "image/png": "[encoded data removed]"
     },
     "metadata": {},
     "output_type": "display_data",
     "jetTransient": {
      "display_id": null
     }
    }
   ],
   "execution_count": 41
  },
  {
   "cell_type": "markdown",
   "id": "c2ff9b5a28bdaf00",
   "metadata": {},
   "source": []
  },
  {
   "cell_type": "markdown",
   "id": "2c80a2cefe25d9b4",
   "metadata": {},
   "source": [
    "Étudier les relations entre variables à l'aide de matrices de corrélation et de visualisations (pairplots ou heatmaps):"
   ]
  },
  {
   "cell_type": "code",
   "id": "4ee425ff818fa062",
   "metadata": {
    "ExecuteTime": {
     "end_time": "2025-10-02T14:03:28.359402Z",
     "start_time": "2025-10-02T14:03:28.172124Z"
    }
   },
   "source": [
    "# Importing required libraries\n",
    "import matplotlib.pyplot as plt   # Matplotlib is used for creating static, animated, and interactive visualizations\n",
    "import seaborn as sns             # Seaborn builds on top of Matplotlib and provides high-level functions\n",
    "                                  # for attractive and informative statistical graphics\n",
    "\n",
    "# Select numeric columns from the DataFrame\n",
    "# - df is assumed to be a pandas DataFrame containing your dataset.\n",
    "# - select_dtypes(include=['number']) filters only the numeric columns\n",
    "#   (e.g., integers, floats) since correlation makes sense only for numerical data.\n",
    "# - .columns returns the list of column names that are numeric.\n",
    "numeric_cols = df.select_dtypes(include=['number']).columns\n",
    "\n",
    "# Compute the correlation matrix for the numeric columns\n",
    "# - df[numeric_cols] creates a new DataFrame containing only numeric columns.\n",
    "# - .corr() calculates the pairwise correlation between these numeric columns.\n",
    "# - The result is a symmetric matrix where each cell (i, j)\n",
    "#   represents the correlation coefficient between column i and column j.\n",
    "# - Correlation values range from -1 to +1:\n",
    "#     -1 = perfect negative correlation (when one increases, the other decreases),\n",
    "#      0 = no correlation,\n",
    "#     +1 = perfect positive correlation (both move together).\n",
    "corr_matrix = df[numeric_cols].corr()\n",
    "\n",
    "# Plotting the heatmap for correlation visualization\n",
    "# - plt.figure(figsize=(8, 6)) sets the overall figure size (width=8, height=6 inches).\n",
    "plt.figure(figsize=(8, 6))\n",
    "\n",
    "# - sns.heatmap() is used to create a heatmap (colored grid) from the correlation matrix.\n",
    "#   Arguments explained:\n",
    "#   * corr_matrix → the data being visualized (our correlation matrix).\n",
    "#   * annot=True → writes the correlation values inside the heatmap cells for readability.\n",
    "#   * cmap='coolwarm' → sets the color palette ranging from cool (blue) to warm (red).\n",
    "#       Blue tones indicate negative correlations, red tones indicate positive ones.\n",
    "#   * square=True → makes each cell a square for a neat, proportional look.\n",
    "sns.heatmap(corr_matrix, annot=True, cmap='coolwarm', square=True)\n",
    "\n",
    "# - Adding a title to explain what the plot represents.\n",
    "plt.title('Correlation Matrix Heatmap')\n",
    "\n",
    "# - Finally, plt.show() displays the heatmap in an output window or notebook.\n",
    "plt.show()\n"
   ],
   "outputs": [
    {
     "data": {
      "text/plain": [
       "<Figure size 800x600 with 2 Axes>"
      ],
      "image/png": "[encoded data removed]"
     },
     "metadata": {},
     "output_type": "display_data",
     "jetTransient": {
      "display_id": null
     }
    }
   ],
   "execution_count": 42
  },
  {
   "cell_type": "markdown",
   "id": "100432933f66b60e",
   "metadata": {},
   "source": [
    "Tâche 3 : Prétraitement des données\n",
    "Gestion des valeurs manquantes (ex. : imputation avec la médiane pour les numériques ou le mode pour les catégoriques)."
   ]
  },
  {
   "cell_type": "code",
   "id": "730c4138b13f15f7",
   "metadata": {
    "ExecuteTime": {
     "end_time": "2025-10-02T14:03:28.408275Z",
     "start_time": "2025-10-02T14:03:28.393006Z"
    }
   },
   "source": [
    "for col in df.select_dtypes(include=['number']).columns:\n",
    "    median_value = df[col].median()\n",
    "    df[col].fillna(median_value, inplace=True)\n",
    "\n",
    "\n",
    "#for other categerys than num\n",
    "for col in df.select_dtypes(include=['object', 'category']).columns:\n",
    "    # - df.select_dtypes(include=['object', 'category']) selects string/object or category columns.\n",
    "    # - For categorical variables (e.g., Gender, City, Product), the most frequent value (mode) is used.\n",
    "    # - Reason: If 'Casablanca' is the most common city, filling missing values with it\n",
    "    #   is safer than choosing randomly or dropping data.\n",
    "\n",
    "    mode_value = df[col].mode(dropna=True)[0]  # Find the most frequent value (mode) , hna mode #ktr3 ktr mn value la kno joj mtsawyin fl count so [0] ktjib lwl wknfiro wst mode()#dropna=true hitax y9d ykon null aktar haja t3awdat\n",
    "\n",
    "    # Replace missing values (NaN) with the mode\n",
    "    df[col].fillna(mode_value, inplace=True)\n",
    "\n",
    "    # Print for tracking\n",
    "    print(f\"Filled missing values in categorical column '{col}' with mode: {mode_value}\")"
   ],
   "outputs": [
    {
     "name": "stdout",
     "output_type": "stream",
     "text": [
      "Filled missing values in categorical column 'sex' with mode: male\n",
      "Filled missing values in categorical column 'smoker' with mode: no\n",
      "Filled missing values in categorical column 'region' with mode: southeast\n"
     ]
    },
    {
     "name": "stderr",
     "output_type": "stream",
     "text": [
      "C:\\Users\\redaj\\AppData\\Local\\Temp\\ipykernel_50480\\467852817.py:3: FutureWarning: A value is trying to be set on a copy of a DataFrame or Series through chained assignment using an inplace method.\n",
      "The behavior will change in pandas 3.0. This inplace method will never work because the intermediate object on which we are setting values always behaves as a copy.\n",
      "\n",
      "For example, when doing 'df[col].method(value, inplace=True)', try using 'df.method({col: value}, inplace=True)' or df[col] = df[col].method(value) instead, to perform the operation inplace on the original object.\n",
      "\n",
      "\n",
      "  df[col].fillna(median_value, inplace=True)\n",
      "C:\\Users\\redaj\\AppData\\Local\\Temp\\ipykernel_50480\\467852817.py:3: FutureWarning: A value is trying to be set on a copy of a DataFrame or Series through chained assignment using an inplace method.\n",
      "The behavior will change in pandas 3.0. This inplace method will never work because the intermediate object on which we are setting values always behaves as a copy.\n",
      "\n",
      "For example, when doing 'df[col].method(value, inplace=True)', try using 'df.method({col: value}, inplace=True)' or df[col] = df[col].method(value) instead, to perform the operation inplace on the original object.\n",
      "\n",
      "\n",
      "  df[col].fillna(median_value, inplace=True)\n",
      "C:\\Users\\redaj\\AppData\\Local\\Temp\\ipykernel_50480\\467852817.py:3: FutureWarning: A value is trying to be set on a copy of a DataFrame or Series through chained assignment using an inplace method.\n",
      "The behavior will change in pandas 3.0. This inplace method will never work because the intermediate object on which we are setting values always behaves as a copy.\n",
      "\n",
      "For example, when doing 'df[col].method(value, inplace=True)', try using 'df.method({col: value}, inplace=True)' or df[col] = df[col].method(value) instead, to perform the operation inplace on the original object.\n",
      "\n",
      "\n",
      "  df[col].fillna(median_value, inplace=True)\n",
      "C:\\Users\\redaj\\AppData\\Local\\Temp\\ipykernel_50480\\467852817.py:3: FutureWarning: A value is trying to be set on a copy of a DataFrame or Series through chained assignment using an inplace method.\n",
      "The behavior will change in pandas 3.0. This inplace method will never work because the intermediate object on which we are setting values always behaves as a copy.\n",
      "\n",
      "For example, when doing 'df[col].method(value, inplace=True)', try using 'df.method({col: value}, inplace=True)' or df[col] = df[col].method(value) instead, to perform the operation inplace on the original object.\n",
      "\n",
      "\n",
      "  df[col].fillna(median_value, inplace=True)\n",
      "C:\\Users\\redaj\\AppData\\Local\\Temp\\ipykernel_50480\\467852817.py:16: FutureWarning: A value is trying to be set on a copy of a DataFrame or Series through chained assignment using an inplace method.\n",
      "The behavior will change in pandas 3.0. This inplace method will never work because the intermediate object on which we are setting values always behaves as a copy.\n",
      "\n",
      "For example, when doing 'df[col].method(value, inplace=True)', try using 'df.method({col: value}, inplace=True)' or df[col] = df[col].method(value) instead, to perform the operation inplace on the original object.\n",
      "\n",
      "\n",
      "  df[col].fillna(mode_value, inplace=True)\n"
     ]
    }
   ],
   "execution_count": 43
  },
  {
   "cell_type": "markdown",
   "id": "de768b1d2f92fca5",
   "metadata": {},
   "source": [
    "Suppression des doublons."
   ]
  },
  {
   "cell_type": "code",
   "id": "e1a415c89726a4ba",
   "metadata": {
    "ExecuteTime": {
     "end_time": "2025-10-02T14:03:28.435407Z",
     "start_time": "2025-10-02T14:03:28.427839Z"
    }
   },
   "source": [
    "df.drop_duplicates(inplace=True) #deletes all duplicate rows in your DataFrame. inplace=True means the operation changes your original DataFrame directly.\n"
   ],
   "outputs": [],
   "execution_count": 44
  },
  {
   "cell_type": "markdown",
   "id": "a76648660b7f7ec1",
   "metadata": {},
   "source": [
    "3 Détection et gestion des valeurs aberrantes : Utiliser des techniques statistiques (ex. : boîte à moustaches avec Seaborn, z-score > 3, ou IQR pour identifier les outliers) et gérer les lignes contenant des valeurs aberrantes (suppression)."
   ]
  },
  {
   "cell_type": "code",
   "id": "2ba21ab77db91b68",
   "metadata": {
    "ExecuteTime": {
     "end_time": "2025-10-02T14:03:28.472374Z",
     "start_time": "2025-10-02T14:03:28.457296Z"
    }
   },
   "source": [
    "import numpy as np  # Import the numpy library for numerical operations\n",
    "\n",
    "# Loop through each column in the list of numeric columns\n",
    "numeric_cols =['age' , 'bmi','children']\n",
    "#tet = numeric_cols.drop(columns=[\"charges\"])\n",
    "for col in numeric_cols:\n",
    "    Q1 = df[col].quantile(0.25)        # Calculate the first quartile (25th percentile) of the column\n",
    "    Q3 = df[col].quantile(0.75)        # Calculate the third quartile (75th percentile) of the column\n",
    "    IQR = Q3 - Q1                      # Compute the interquartile range (IQR)\n",
    "    lower_bound = Q1 - 1.5 * IQR        # Define the lower bound for outliers\n",
    "    upper_bound = Q3 + 1.5 * IQR        # Define the upper bound for outliers\n",
    "\n",
    "    # Find and count the number of outliers in the column\n",
    "    outliers = df[(df[col] < lower_bound) | (df[col] > upper_bound)]\n",
    "    print(f\"{col}: {outliers.shape[0]} outliers detected.\")  # Display the number of outliers found\n",
    "\n",
    "    # Remove rows where the column value is an outlier\n",
    "    df = df[(df[col] >= lower_bound) & (df[col] <= upper_bound)]"
   ],
   "outputs": [
    {
     "name": "stdout",
     "output_type": "stream",
     "text": [
      "age: 0 outliers detected.\n",
      "bmi: 9 outliers detected.\n",
      "children: 0 outliers detected.\n"
     ]
    }
   ],
   "execution_count": 45
  },
  {
   "cell_type": "markdown",
   "id": "e5d690597de11bb0",
   "metadata": {},
   "source": [
    "4_Encoder les variables catégoriques (sexe, smoker, région) avec one-hot encoding ou label encoding."
   ]
  },
  {
   "cell_type": "code",
   "id": "dd68a1d45bc93a32",
   "metadata": {
    "ExecuteTime": {
     "end_time": "2025-10-02T14:03:28.525699Z",
     "start_time": "2025-10-02T14:03:28.513888Z"
    }
   },
   "source": [
    "categorical_cols = ['sex', 'smoker', 'region']\n",
    "\n",
    "df_encoded = pd.get_dummies(df, columns=categorical_cols, drop_first=True)\n",
    "\n",
    "\n"
   ],
   "outputs": [],
   "execution_count": 46
  },
  {
   "cell_type": "markdown",
   "id": "79d7988b92beaa5f",
   "metadata": {},
   "source": [
    "Diviser les données en ensembles d'entraînement et de test (80% / 20%) avec traintestsplit de Scikit-learn."
   ]
  },
  {
   "cell_type": "code",
   "id": "d2367e112a30bb1b",
   "metadata": {
    "ExecuteTime": {
     "end_time": "2025-10-02T14:03:28.563717Z",
     "start_time": "2025-10-02T14:03:28.555747Z"
    }
   },
   "source": [
    "from sklearn.model_selection import train_test_split\n",
    "\n",
    "# X: DataFrame with features (independent variables)\n",
    "# y: Series with target (dependent variable, e.g. charges)\n",
    "\n",
    "# Split the data into training and test sets\n",
    "# test_size=0.2 means 20% of the data will be used for testing\n",
    "# random_state=42 ensures the split is the same every time for reproducibility\n",
    "#X_train, X_test, y_train, y_test = train_test_split(\n",
    "    #X, y, test_size=0.2, random_state=42\n",
    "#)\n",
    "\n",
    "# Print the sizes of the splits to verify\n",
    "#print(\"Taille X_train:\", X_train.shape)\n",
    "#print(\"Taille X_test:\", X_test.shape)\n",
    "#print(\"Taille y_train:\", y_train.shape)\n",
    "#print(\"Taille y_test:\", y_test.shape)"
   ],
   "outputs": [],
   "execution_count": 47
  },
  {
   "cell_type": "markdown",
   "id": "56295aa438405eb5",
   "metadata": {},
   "source": [
    "Appliquer une normalisation (MinMaxScaler) ou une standardisation (StandardScaler) sur les variables numériques pour harmoniser les échelles."
   ]
  },
  {
   "cell_type": "code",
   "id": "7a068319a6d9474",
   "metadata": {
    "ExecuteTime": {
     "end_time": "2025-10-02T14:03:28.607508Z",
     "start_time": "2025-10-02T14:03:28.583276Z"
    }
   },
   "source": [
    "# Import the scalers from scikit-learn\n",
    "from sklearn.preprocessing import MinMaxScaler, StandardScaler\n",
    "\n",
    "# Select only the numeric columns from your DataFrame\n",
    "numeric_cols = df.select_dtypes(include=['number']).columns\n",
    "\n",
    "# ----------- MinMaxScaler (Normalisation) -----------\n",
    "# Create a MinMaxScaler object\n",
    "minmax_scaler = MinMaxScaler()\n",
    "\n",
    "# Fit the scaler to your numeric data and transform it\n",
    "# This rescales each numeric column so its values are between 0 and 1\n",
    "df_minmax = df.copy()  # Make a copy to keep your original data unchanged\n",
    "df_minmax[numeric_cols] = minmax_scaler.fit_transform(df_minmax[numeric_cols])\n",
    "\n",
    "print(\"Data after MinMaxScaler (values between 0 and 1):\")\n",
    "print(df_minmax[numeric_cols].head())\n",
    "\n",
    "# ----------- StandardScaler (Standardisation) -----------\n",
    "# Create a StandardScaler object\n",
    "standard_scaler = StandardScaler()\n",
    "\n",
    "# Fit the scaler to your numeric data and transform it\n",
    "# This standardizes each numeric column: mean becomes 0 and standard deviation becomes 1\n",
    "df_standard = df.copy()  # Make a copy to keep your original data unchanged\n",
    "df_standard[numeric_cols] = standard_scaler.fit_transform(df_standard[numeric_cols])\n",
    "\n",
    "#df = df_standard\n",
    "\n",
    "print(\"Data after StandardScaler (mean=0, std=1):\")\n",
    "print(df_standard[numeric_cols].head())"
   ],
   "outputs": [
    {
     "name": "stdout",
     "output_type": "stream",
     "text": [
      "Data after MinMaxScaler (values between 0 and 1):\n",
      "        age       bmi  children   charges\n",
      "0  0.021739  0.387788       0.0  0.256431\n",
      "1  0.000000  0.578435       0.2  0.009821\n",
      "2  0.217391  0.553426       0.6  0.054133\n",
      "3  0.326087  0.219065       0.0  0.339389\n",
      "4  0.304348  0.419617       0.0  0.044655\n",
      "Data after StandardScaler (mean=0, std=1):\n",
      "        age       bmi  children   charges\n",
      "0 -1.440429 -0.445495 -0.908563  0.305500\n",
      "1 -1.511669  0.546068 -0.080442 -0.958515\n",
      "2 -0.799261  0.415999  1.575799 -0.731390\n",
      "3 -0.443056 -1.323037 -0.908563  0.730710\n",
      "4 -0.514297 -0.279953 -0.908563 -0.779969\n"
     ]
    }
   ],
   "execution_count": 48
  },
  {
   "cell_type": "markdown",
   "id": "77f3e33e275b444b",
   "metadata": {},
   "source": []
  },
  {
   "cell_type": "code",
   "id": "4c23255d1c271459",
   "metadata": {
    "ExecuteTime": {
     "end_time": "2025-10-02T14:04:30.630795Z",
     "start_time": "2025-10-02T14:04:30.586165Z"
    }
   },
   "source": [
    "import pandas as pd\n",
    "import numpy as np\n",
    "\n",
    "from sklearn.model_selection import train_test_split\n",
    "from sklearn.preprocessing import StandardScaler, OneHotEncoder\n",
    "from sklearn.compose import ColumnTransformer\n",
    "from sklearn.pipeline import Pipeline\n",
    "from sklearn.linear_model import LinearRegression\n",
    "from sklearn.ensemble import RandomForestRegressor\n",
    "from sklearn.svm import SVR\n",
    "from sklearn.metrics import mean_squared_error, mean_absolute_error, r2_score\n",
    "\n",
    "# Try XGBoost gracefully (skip if not installed)\n",
    "# 2) Split into features (X) and target (y)\n",
    "y = df[\"charges\"]\n",
    "X = df.drop(columns=[\"charges\"])\n",
    "\n",
    "# 3) Turn text columns into numbers (one-hot encoding) the easy way\n",
    "#    drop_first=True avoids duplicate columns for categories\n",
    "X = pd.get_dummies(X, drop_first=True)\n",
    "\n",
    "# 4) Split into train (80%) and test (20%)\n",
    "X_train, X_test, y_train, y_test = train_test_split(\n",
    "    X, y, test_size=0.2, random_state=42\n",
    ")\n",
    "\n",
    "# 5) Make the model\n",
    "model = LinearRegression()\n",
    "\n",
    "# 6) Train (fit) the model\n",
    "model.fit(X_train, y_train)\n",
    "\n",
    "# 7) Predict on the test set\n",
    "y_pred = model.predict(X_test)\n",
    "print(f\"hada :{model.intercept_}{model.coef_}\") and print(model.coef_)\n",
    "# 8) Evaluate\n",
    "rmse = np.sqrt(mean_squared_error(y_test, y_pred))\n",
    "mae = mean_absolute_error(y_test, y_pred)\n",
    "r2 = r2_score(y_test, y_pred)\n",
    "\n",
    "print(\"Linear Regression (basic) results on test set\")\n",
    "print(f\"RMSE: {rmse:.2f}\")\n",
    "print(f\"MAE:  {mae:.2f}\")\n",
    "print(f\"R²:   {r2:.4f}\")\n",
    "\n",
    "# 9) (Optional) Show a few predictions vs real values\n",
    "preview = pd.DataFrame({\n",
    "    \"Actual\": y_test.values[:10],\n",
    "    \"Predicted\": y_pred[:10]\n",
    "})\n",
    "print(\"\\nSample predictions (first 10):\")\n",
    "print(preview)\n",
    "\n",
    "\n",
    "df.head()"
   ],
   "outputs": [
    {
     "name": "stdout",
     "output_type": "stream",
     "text": [
      "hada :-12180.86957885495[  259.03018039   349.24138678   529.46460959   -38.68805866\n",
      " 23743.30576635  -574.6780471  -1302.60945429 -1549.50508836]\n",
      "Linear Regression (basic) results on test set\n",
      "RMSE: 5955.30\n",
      "MAE:  4125.94\n",
      "R²:   0.7448\n",
      "\n",
      "Sample predictions (first 10):\n",
      "        Actual     Predicted\n",
      "0   5373.36425   7843.143236\n",
      "1  30259.99556  13308.810641\n",
      "2   8410.04685  10449.860264\n",
      "3   6455.86265   7828.974390\n",
      "4   4133.64165   4084.337401\n",
      "5  10713.64400  13473.140704\n",
      "6   6664.68595   8275.667913\n",
      "7   4347.02335   6698.249694\n",
      "8   3554.20300   3714.517158\n",
      "9  11538.42100  17625.757056\n"
     ]
    },
    {
     "data": {
      "text/plain": [
       "   age     sex     bmi  children smoker     region      charges\n",
       "0   19  female  27.900         0    yes  southwest  16884.92400\n",
       "1   18    male  33.770         1     no  southeast   1725.55230\n",
       "2   28    male  33.000         3     no  southeast   4449.46200\n",
       "3   33    male  22.705         0     no  northwest  21984.47061\n",
       "4   32    male  28.880         0     no  northwest   3866.85520"
      ],
      "text/html": [
       "<div>\n",
       "<style scoped>\n",
       "    .dataframe tbody tr th:only-of-type {\n",
       "        vertical-align: middle;\n",
       "    }\n",
       "\n",
       "    .dataframe tbody tr th {\n",
       "        vertical-align: top;\n",
       "    }\n",
       "\n",
       "    .dataframe thead th {\n",
       "        text-align: right;\n",
       "    }\n",
       "</style>\n",
       "<table border=\"1\" class=\"dataframe\">\n",
       "  <thead>\n",
       "    <tr style=\"text-align: right;\">\n",
       "      <th></th>\n",
       "      <th>age</th>\n",
       "      <th>sex</th>\n",
       "      <th>bmi</th>\n",
       "      <th>children</th>\n",
       "      <th>smoker</th>\n",
       "      <th>region</th>\n",
       "      <th>charges</th>\n",
       "    </tr>\n",
       "  </thead>\n",
       "  <tbody>\n",
       "    <tr>\n",
       "      <th>0</th>\n",
       "      <td>19</td>\n",
       "      <td>female</td>\n",
       "      <td>27.900</td>\n",
       "      <td>0</td>\n",
       "      <td>yes</td>\n",
       "      <td>southwest</td>\n",
       "      <td>16884.92400</td>\n",
       "    </tr>\n",
       "    <tr>\n",
       "      <th>1</th>\n",
       "      <td>18</td>\n",
       "      <td>male</td>\n",
       "      <td>33.770</td>\n",
       "      <td>1</td>\n",
       "      <td>no</td>\n",
       "      <td>southeast</td>\n",
       "      <td>1725.55230</td>\n",
       "    </tr>\n",
       "    <tr>\n",
       "      <th>2</th>\n",
       "      <td>28</td>\n",
       "      <td>male</td>\n",
       "      <td>33.000</td>\n",
       "      <td>3</td>\n",
       "      <td>no</td>\n",
       "      <td>southeast</td>\n",
       "      <td>4449.46200</td>\n",
       "    </tr>\n",
       "    <tr>\n",
       "      <th>3</th>\n",
       "      <td>33</td>\n",
       "      <td>male</td>\n",
       "      <td>22.705</td>\n",
       "      <td>0</td>\n",
       "      <td>no</td>\n",
       "      <td>northwest</td>\n",
       "      <td>21984.47061</td>\n",
       "    </tr>\n",
       "    <tr>\n",
       "      <th>4</th>\n",
       "      <td>32</td>\n",
       "      <td>male</td>\n",
       "      <td>28.880</td>\n",
       "      <td>0</td>\n",
       "      <td>no</td>\n",
       "      <td>northwest</td>\n",
       "      <td>3866.85520</td>\n",
       "    </tr>\n",
       "  </tbody>\n",
       "</table>\n",
       "</div>"
      ]
     },
     "execution_count": 51,
     "metadata": {},
     "output_type": "execute_result"
    }
   ],
   "execution_count": 51
  },
  {
   "metadata": {},
   "cell_type": "markdown",
   "source": "",
   "id": "93887f6a6112ff34"
  },
  {
   "metadata": {},
   "cell_type": "code",
   "outputs": [],
   "execution_count": null,
   "source": "",
   "id": "a664f44388243ae4"
  },
  {
   "metadata": {
    "ExecuteTime": {
     "end_time": "2025-10-02T14:56:12.200282Z",
     "start_time": "2025-10-02T14:56:11.647806Z"
    }
   },
   "cell_type": "code",
   "source": [
    "# Compare LinearRegression, RandomForestRegressor, XGBRegressor, and SVR\n",
    "# Simple style: pandas.get_dummies + train_test_split + fit/predict + metrics\n",
    "# Note: SVR needs scaling; we'll scale only for SVR to keep it simple.\n",
    "\n",
    "import pandas as pd\n",
    "import numpy as np\n",
    "\n",
    "from sklearn.model_selection import train_test_split\n",
    "from sklearn.metrics import mean_squared_error, mean_absolute_error, r2_score\n",
    "\n",
    "from sklearn.linear_model import LinearRegression\n",
    "from sklearn.ensemble import RandomForestRegressor\n",
    "from sklearn.svm import SVR\n",
    "from sklearn.preprocessing import StandardScaler\n",
    "\n",
    "# Try XGBoost if installed; skip if not\n",
    "try:\n",
    "    from xgboost import XGBRegressor\n",
    "    HAS_XGB = True\n",
    "except Exception:\n",
    "    HAS_XGB = False\n",
    "\n",
    "# 1) Load the data\n",
    "csv_path = \"ensurance.csv\"  # <- update if your file has a different name/path\n",
    "df = pd.read_csv(csv_path)\n",
    "\n",
    "# 2) Features/target\n",
    "y = df[\"charges\"]\n",
    "X = df.drop(columns=[\"charges\"])\n",
    "\n",
    "# 3) Easy one-hot encoding for categorical columns\n",
    "X = pd.get_dummies(X, drop_first=True)\n",
    "\n",
    "# 4) Train/test split (80/20)\n",
    "X_train, X_test, y_train, y_test = train_test_split(\n",
    "    X, y, test_size=0.2, random_state=42\n",
    ")\n",
    "\n",
    "# 5) Prepare models (default params)\n",
    "models = {\n",
    "    \"LinearRegression\": LinearRegression(),\n",
    "    \"RandomForestRegressor\": RandomForestRegressor(random_state=42),\n",
    "    \"SVR\": SVR(),  # default RBF kernel; needs scaling\n",
    "}\n",
    "if HAS_XGB:\n",
    "    models[\"XGBRegressor\"] = XGBRegressor(\n",
    "        objective=\"reg:squarederror\",\n",
    "        random_state=42,\n",
    "        verbosity=0\n",
    "    )\n",
    "\n",
    "# 6) Helper to compute metrics\n",
    "def eval_metrics(y_true, y_pred):\n",
    "    rmse = np.sqrt(mean_squared_error(y_true, y_pred))\n",
    "    mae = mean_absolute_error(y_true, y_pred)\n",
    "    r2 = r2_score(y_true, y_pred)\n",
    "    return rmse, mae, r2\n",
    "\n",
    "# 7) Baseline (always predict the mean) to compare against\n",
    "baseline = y_train.mean()\n",
    "y_pred_base = np.full_like(y_test, baseline, dtype=float)\n",
    "rmse_b = np.sqrt(mean_squared_error(y_test, y_pred_base))\n",
    "print(f\"Baseline (predict mean) RMSE: {rmse_b:.2f}\\n\")\n",
    "\n",
    "# 8) Train, predict, evaluate each model\n",
    "results = []\n",
    "for name, model in models.items():\n",
    "    if name == \"SVR\":\n",
    "        # Scale features ONLY for SVR (everything is numeric after get_dummies)\n",
    "        scaler = StandardScaler()\n",
    "        X_train_use = scaler.fit_transform(X_train)\n",
    "        X_test_use = scaler.transform(X_test)\n",
    "    else:\n",
    "        X_train_use = X_train\n",
    "        X_test_use = X_test\n",
    "\n",
    "    # Fit\n",
    "    model.fit(X_train_use, y_train)\n",
    "\n",
    "    # Predict\n",
    "    y_pred = model.predict(X_test_use)\n",
    "\n",
    "    # Metrics\n",
    "    rmse, mae, r2 = eval_metrics(y_test, y_pred)\n",
    "    results.append({\"Model\": name, \"RMSE\": rmse, \"MAE\": mae, \"R2\": r2})\n",
    "\n",
    "    print(f\"{name} results:\")\n",
    "    print(f\"  RMSE: {rmse:.2f}\")\n",
    "    print(f\"  MAE:  {mae:.2f}\")\n",
    "    print(f\"  R²:   {r2:.4f}\")\n",
    "\n",
    "    # Optional: show a few predictions for the first model only to keep output short\n",
    "    if name == \"LinearRegression\":\n",
    "        preview = pd.DataFrame({\"Actual\": y_test.values[:5], \"Predicted\": y_pred[:5]})\n",
    "        print(\"  Sample predictions:\\n\", preview, \"\\n\")\n",
    "\n",
    "# 9) Summary table sorted by RMSE (lower is better)\n",
    "results_df = pd.DataFrame(results).sort_values(\"RMSE\").reset_index(drop=True)\n",
    "print(\"\\nSummary (sorted by RMSE):\")\n",
    "print(results_df)"
   ],
   "id": "2d570b3702e75e0f",
   "outputs": [
    {
     "name": "stdout",
     "output_type": "stream",
     "text": [
      "Baseline (predict mean) RMSE: 12465.61\n",
      "\n",
      "LinearRegression results:\n",
      "  RMSE: 5796.28\n",
      "  MAE:  4181.19\n",
      "  R²:   0.7836\n",
      "  Sample predictions:\n",
      "         Actual     Predicted\n",
      "0   9095.06825   8969.550274\n",
      "1   5272.17580   7068.747443\n",
      "2  29330.98315  36858.410912\n",
      "3   9301.89355   9454.678501\n",
      "4  33750.29180  26973.173457 \n",
      "\n",
      "RandomForestRegressor results:\n",
      "  RMSE: 4576.30\n",
      "  MAE:  2550.08\n",
      "  R²:   0.8651\n",
      "SVR results:\n",
      "  RMSE: 12889.10\n",
      "  MAE:  8612.41\n",
      "  R²:   -0.0701\n",
      "\n",
      "Summary (sorted by RMSE):\n",
      "                   Model          RMSE          MAE        R2\n",
      "0  RandomForestRegressor   4576.299916  2550.078471  0.865103\n",
      "1       LinearRegression   5796.284659  4181.194474  0.783593\n",
      "2                    SVR  12889.096315  8612.408423 -0.070082\n"
     ]
    }
   ],
   "execution_count": 53
  }
 ],
 "metadata": {
  "kernelspec": {
   "display_name": "venv",
   "language": "python",
   "name": "python3"
  },
  "language_info": {
   "codemirror_mode": {
    "name": "ipython",
    "version": 3
   },
   "file_extension": ".py",
   "mimetype": "text/x-python",
   "name": "python",
   "nbconvert_exporter": "python",
   "pygments_lexer": "ipython3",
   "version": "3.13.7"
  }
 },
 "nbformat": 4,
 "nbformat_minor": 5
}
