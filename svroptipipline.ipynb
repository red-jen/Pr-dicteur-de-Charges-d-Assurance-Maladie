{
 "cells": [
  {
   "cell_type": "code",
   "execution_count": null,
   "id": "initial_id",
   "metadata": {
    "collapsed": true
   },
   "outputs": [],
   "source": [
    ""
   ]
  },
  {
   "metadata": {
    "ExecuteTime": {
     "end_time": "2025-10-02T16:04:43.291795Z",
     "start_time": "2025-10-02T16:04:39.306310Z"
    }
   },
   "cell_type": "code",
   "source": [
    "# Tuning SVR (RBF) avec cible en log et Pipeline pour éviter les fuites en CV\n",
    "import pandas as pd\n",
    "import numpy as np\n",
    "\n",
    "from sklearn.model_selection import train_test_split, RandomizedSearchCV\n",
    "from sklearn.pipeline import Pipeline\n",
    "from sklearn.preprocessing import StandardScaler\n",
    "from sklearn.svm import SVR\n",
    "from sklearn.metrics import mean_squared_error, mean_absolute_error, r2_score\n",
    "\n",
    "RANDOM_STATE = 42\n",
    "\n",
    "def metrics(y_true, y_pred):\n",
    "    rmse = np.sqrt(mean_squared_error(y_true, y_pred))\n",
    "    mae  = mean_absolute_error(y_true, y_pred)\n",
    "    r2   = r2_score(y_true, y_pred)\n",
    "    return rmse, mae, r2\n",
    "\n",
    "# 1) Charger données\n",
    "df = pd.read_csv(\"ensurance.csv\")\n",
    "\n",
    "# 2) y et X\n",
    "y = df[\"charges\"]\n",
    "X = df.drop(columns=[\"charges\"])\n",
    "\n",
    "# 3) Encodage simple\n",
    "X = pd.get_dummies(X, drop_first=True)\n",
    "\n",
    "# 4) Split\n",
    "X_train, X_test, y_train, y_test = train_test_split(\n",
    "    X, y, test_size=0.2, random_state=RANDOM_STATE\n",
    ")\n",
    "\n",
    "# 5) On travaille sur y en log pour l'entraînement\n",
    "y_train_log = np.log1p(y_train)\n",
    "\n",
    "# 6) Pipeline: StandardScaler (toutes colonnes déjà numériques) + SVR\n",
    "pipe = Pipeline([\n",
    "    (\"scaler\", StandardScaler(with_mean=True, with_std=True)),\n",
    "    (\"svr\", SVR(kernel=\"rbf\"))\n",
    "])\n",
    "\n",
    "# 7) Search space simple\n",
    "param_dist = {\n",
    "    \"svr__C\": [10, 50, 100],\n",
    "    \"svr__epsilon\": [0.1, 0.2, 0.3],\n",
    "    \"svr__gamma\": [\"scale\", 0.1, 0.05],\n",
    "}\n",
    "\n",
    "search = RandomizedSearchCV(\n",
    "    pipe,\n",
    "    param_distributions=param_dist,\n",
    "    n_iter=12,\n",
    "    scoring=\"neg_mean_squared_error\",  # on optimise la MSE en log-espace\n",
    "    cv=5,\n",
    "    random_state=RANDOM_STATE,\n",
    "    n_jobs=-1,\n",
    "    refit=True,\n",
    ")\n",
    "\n",
    "# 8) Fit sur (X_train, log(y_train)) — le pipeline empêche la fuite durant la CV\n",
    "search.fit(X_train, y_train_log)\n",
    "\n",
    "print(\"Best params (SVR log-target):\", search.best_params_)\n",
    "print(\"CV best RMSE (log-espace):\", np.sqrt(-search.best_score_))\n",
    "\n",
    "# 9) Évaluer en unités originales (on inverse la log)\n",
    "y_pred_log = search.best_estimator_.predict(X_test)\n",
    "y_pred = np.expm1(y_pred_log)\n",
    "rmse, mae, r2 = metrics(y_test, y_pred)\n",
    "print(f\"SVR log-target (tuned) -> RMSE:{rmse:.2f}  MAE:{mae:.2f}  R²:{r2:.4f}\")"
   ],
   "id": "f864d2ab7ec0e4f0",
   "outputs": [
    {
     "name": "stdout",
     "output_type": "stream",
     "text": [
      "Best params (SVR log-target): {'svr__gamma': 0.05, 'svr__epsilon': 0.1, 'svr__C': 50}\n",
      "CV best RMSE (log-espace): 0.37907878009603113\n",
      "SVR log-target (tuned) -> RMSE:4999.70  MAE:2321.32  R²:0.8390\n"
     ]
    }
   ],
   "execution_count": 2
  }
 ],
 "metadata": {
  "kernelspec": {
   "display_name": "Python 3",
   "language": "python",
   "name": "python3"
  },
  "language_info": {
   "codemirror_mode": {
    "name": "ipython",
    "version": 2
   },
   "file_extension": ".py",
   "mimetype": "text/x-python",
   "name": "python",
   "nbconvert_exporter": "python",
   "pygments_lexer": "ipython2",
   "version": "2.7.6"
  }
 },
 "nbformat": 4,
 "nbformat_minor": 5
}
