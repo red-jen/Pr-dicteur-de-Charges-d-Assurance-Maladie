{
 "cells": [
  {
   "cell_type": "code",
   "execution_count": null,
   "id": "initial_id",
   "metadata": {
    "collapsed": true
   },
   "outputs": [],
   "source": [
    "import pandas as pd  # import pandas as alias pd\n",
    "\n",
    "df = pd.read_csv(\n",
    "    \"ensurance.csv\")  # .red_csv ktqra files mais khass darori ykono f directory je pense la mkanx khass dir path.join()\n",
    "print(\"shape:\", df.shape)  # shape kt3tik xhal mn rowe and column kynin\n",
    "df.head()  #kt3tik l 5 rows lowlin mais ymkn lid t customizi bhal .head(10)"
   ]
  }
 ],
 "metadata": {
  "kernelspec": {
   "display_name": "Python 3",
   "language": "python",
   "name": "python3"
  },
  "language_info": {
   "codemirror_mode": {
    "name": "ipython",
    "version": 2
   },
   "file_extension": ".py",
   "mimetype": "text/x-python",
   "name": "python",
   "nbconvert_exporter": "python",
   "pygments_lexer": "ipython2",
   "version": "2.7.6"
  }
 },
 "nbformat": 4,
 "nbformat_minor": 5
}
